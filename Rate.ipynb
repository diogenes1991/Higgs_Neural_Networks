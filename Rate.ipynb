{
 "cells": [
  {
   "cell_type": "code",
   "execution_count": 1,
   "id": "1797843c",
   "metadata": {},
   "outputs": [
    {
     "name": "stdout",
     "output_type": "stream",
     "text": [
      "Welcome to JupyROOT 6.26/02\n"
     ]
    }
   ],
   "source": [
    "import ROOT\n",
    "from ROOT import TMath\n",
    "import random\n",
    "import numpy as np\n",
    "import matplotlib.pyplot as plt\n",
    "import tensorflow as tf\n",
    "from tensorflow import keras\n",
    "from keras import layers\n",
    "import os"
   ]
  },
  {
   "cell_type": "code",
   "execution_count": 20,
   "id": "c4bdfb11",
   "metadata": {},
   "outputs": [
    {
     "name": "stdout",
     "output_type": "stream",
     "text": [
      "Channel: ttH has 576491 entries\n",
      "Channel: ggH has 1054711 entries\n",
      "Channel: WWH has 497468 entries\n",
      "Channel: data1 has 430344 entries\n",
      "Channel: data3 has 2237187 entries\n",
      "Channel: data4 has 3602176 entries\n",
      "Processing Channel  ttH\n",
      "Processing Channel  ggH\n",
      "Processing Channel  WWH\n",
      "Processing Channel  data1\n",
      "Processing Channel  data3\n",
      "Processing Channel  data4\n"
     ]
    }
   ],
   "source": [
    "#all data\n",
    "\n",
    "'''Importing the data from the ROOT files'''\n",
    "\n",
    "ttH = ROOT.TFile.Open(\"mc_341081.ttH125_gamgam.GamGam.root\")\n",
    "ggH = ROOT.TFile.Open(\"mc_343981.ggH125_gamgam.GamGam.root\")\n",
    "WWH = ROOT.TFile.Open(\"mc_345041.VBFH125_gamgam.GamGam.root\")\n",
    "data1 = ROOT.TFile.Open(\"data_A.GamGam.root\")\n",
    "data2 = ROOT.TFile.Open(\"data_B.GamGam.root\")\n",
    "data3 = ROOT.TFile.Open(\"data_C.GamGam.root\")\n",
    "data4 = ROOT.TFile.Open(\"data_D.GamGam.root\")\n",
    "\n",
    "Channels = {\"ttH\":ttH.Get(\"mini\"),\n",
    "            \"ggH\":ggH.Get(\"mini\"),\n",
    "            \"WWH\":WWH.Get(\"mini\"), \n",
    "            'data1':data1.Get('mini'), \n",
    "            #'data2':data2.Get('mini'),   data2 broken for some reason?\n",
    "            'data3':data3.Get('mini'),\n",
    "            'data4':data4.Get('mini')\n",
    "           }\n",
    "\n",
    "for channel in Channels:\n",
    "    print(\"Channel:\",channel,\"has\",Channels[channel].GetEntries(),\"entries\")\n",
    "\n",
    "OutputMap = {\"ttH\":[1,0,0,0],\"ggH\":[0,1,0,0],\"WWH\":[0,0,1,0], \n",
    "             'data1':[0,0,0,1], 'data2':[0,0,0,1], 'data3':[0,0,0,1], 'data4':[0,0,0,1]}\n",
    "\n",
    "# Here we shall store the two photons & outputs \n",
    "dataset = []\n",
    "dataset2 = []\n",
    "\n",
    "# Prepare Data for NN\n",
    "# Events are not filtered by LLT or HLT\n",
    "\n",
    "for channel in Channels:\n",
    "    print(\"Processing Channel \",channel)\n",
    "    Channel = Channels[channel]\n",
    "    counter = 0\n",
    "    for event in Channel:\n",
    "        #if (not event.trigP):\n",
    "            #continue\n",
    "        if counter > 50000:\n",
    "            break\n",
    "        Photons = []\n",
    "        if Channel.photon_n != 2:\n",
    "            continue\n",
    "        for j in range(Channel.photon_n):\n",
    "            Momentum = ROOT.TLorentzVector()\n",
    "            Momentum.SetPtEtaPhiE(Channel.photon_pt[j]/1000., Channel.photon_eta[j],Channel.photon_phi[j],Channel.photon_E[j]/1000.)\n",
    "            Photons.append(Momentum)\n",
    "        Photons.sort(key = lambda p : -p.E())#sorts by energy most energetic goes first\n",
    "        data = []\n",
    "        data2 = []\n",
    "        data2.append(np.sqrt(2*(Photons[0].E()*Photons[1].E()-Photons[0].Px()*Photons[1].Px()-Photons[0].Py()*Photons[1].Py()-Photons[0].Pz()*Photons[1].Pz())))\n",
    "        for i in range(len(Photons)):\n",
    "            data.append(Photons[i].E() )\n",
    "            data.append(Photons[i].Px())\n",
    "            data.append(Photons[i].Py())\n",
    "            data.append(Photons[i].Pz())\n",
    "            data2.append(Photons[i].Px())\n",
    "            data2.append(Photons[i].Py())\n",
    "            data2.append(Photons[i].Pz())\n",
    "        for vec in OutputMap[channel]:\n",
    "            data.append(vec)\n",
    "            data2.append(vec)\n",
    "        dataset.append(data)\n",
    "        dataset2.append(data2)\n",
    "        counter += 1\n",
    "        \n",
    "        \n",
    "random.shuffle(dataset)\n",
    "dataset = np.asarray(dataset) #non-processed\n",
    "\n",
    "random.shuffle(dataset2)\n",
    "dataset2 = np.asarray(dataset2) #processed"
   ]
  },
  {
   "cell_type": "code",
   "execution_count": 17,
   "id": "0f67d9f1",
   "metadata": {},
   "outputs": [
    {
     "name": "stdout",
     "output_type": "stream",
     "text": [
      "Channel: data4 has 3602176 entries\n",
      "Processing Channel  data4\n"
     ]
    }
   ],
   "source": [
    "#only background file\n",
    "\n",
    "data4 = ROOT.TFile.Open(\"data_D.GamGam.root\")\n",
    "\n",
    "Channels = {'data4':data4.Get('mini')}\n",
    "\n",
    "for channel in Channels:\n",
    "    print(\"Channel:\",channel,\"has\",Channels[channel].GetEntries(),\"entries\")\n",
    "\n",
    "OutputMap = {\"ttH\":[1,0,0,0],\"ggH\":[0,1,0,0],\"WWH\":[0,0,1,0], \n",
    "             'data1':[0,0,0,1], 'data2':[0,0,0,1], 'data3':[0,0,0,1], 'data4':[0,0,0,1]}\n",
    "\n",
    "back_dataset = []\n",
    "back_dataset2 = []\n",
    "\n",
    "for channel in Channels:\n",
    "    print(\"Processing Channel \",channel)\n",
    "    Channel = Channels[channel]\n",
    "    counter = 0\n",
    "    for event in Channel:\n",
    "        #if (not event.trigP):\n",
    "            #continue\n",
    "        if counter > 200000:\n",
    "            break\n",
    "        Photons = []\n",
    "        if Channel.photon_n != 2:\n",
    "            continue\n",
    "        for j in range(Channel.photon_n):\n",
    "            Momentum = ROOT.TLorentzVector()\n",
    "            Momentum.SetPtEtaPhiE(Channel.photon_pt[j]/1000., Channel.photon_eta[j],Channel.photon_phi[j],Channel.photon_E[j]/1000.)\n",
    "            Photons.append(Momentum)\n",
    "        Photons.sort(key = lambda p : -p.E())#sorts by energy most energetic goes first\n",
    "        data = []\n",
    "        data2 = []\n",
    "        data2.append(np.sqrt(2*(Photons[0].E()*Photons[1].E()-Photons[0].Px()*Photons[1].Px()-Photons[0].Py()*Photons[1].Py()-Photons[0].Pz()*Photons[1].Pz())))\n",
    "        for i in range(len(Photons)):\n",
    "            data.append(Photons[i].E() )\n",
    "            data.append(Photons[i].Px())\n",
    "            data.append(Photons[i].Py())\n",
    "            data.append(Photons[i].Pz())\n",
    "            data2.append(Photons[i].Px())\n",
    "            data2.append(Photons[i].Py())\n",
    "            data2.append(Photons[i].Pz())\n",
    "        for vec in OutputMap[channel]:\n",
    "            data.append(vec)\n",
    "            data2.append(vec)\n",
    "        back_dataset.append(data)\n",
    "        back_dataset2.append(data2)\n",
    "        counter += 1\n",
    "        \n",
    "        \n",
    "random.shuffle(back_dataset)\n",
    "back_dataset = np.asarray(back_dataset) #non-processed\n",
    "\n",
    "random.shuffle(back_dataset2)\n",
    "back_dataset2 = np.asarray(back_dataset2) #processed"
   ]
  },
  {
   "cell_type": "code",
   "execution_count": 3,
   "id": "fb14a80c",
   "metadata": {},
   "outputs": [
    {
     "name": "stdout",
     "output_type": "stream",
     "text": [
      "Channel: ttH has 576491 entries\n",
      "Channel: ggH has 1054711 entries\n",
      "Channel: WWH has 497468 entries\n",
      "Channel: data1 has 430344 entries\n",
      "Channel: data3 has 2237187 entries\n",
      "Channel: data4 has 3602176 entries\n",
      "Processing Channel  ttH\n",
      "Processing Channel  ggH\n",
      "Processing Channel  WWH\n",
      "Processing Channel  data1\n",
      "Processing Channel  data3\n",
      "Processing Channel  data4\n"
     ]
    }
   ],
   "source": [
    "#signal and background files\n",
    "\n",
    "ttH = ROOT.TFile.Open(\"mc_341081.ttH125_gamgam.GamGam.root\")\n",
    "ggH = ROOT.TFile.Open(\"mc_343981.ggH125_gamgam.GamGam.root\")\n",
    "WWH = ROOT.TFile.Open(\"mc_345041.VBFH125_gamgam.GamGam.root\")\n",
    "data1 = ROOT.TFile.Open(\"data_A.GamGam.root\")\n",
    "data3 = ROOT.TFile.Open(\"data_C.GamGam.root\")\n",
    "data4 = ROOT.TFile.Open(\"data_D.GamGam.root\")\n",
    "\n",
    "Channels2 = {\"ttH\":ttH.Get(\"mini\"),\n",
    "            \"ggH\":ggH.Get(\"mini\"),\n",
    "            \"WWH\":WWH.Get(\"mini\"), \n",
    "            'data1':data1.Get('mini'), \n",
    "            'data3':data3.Get('mini'),\n",
    "            'data4':data4.Get('mini')\n",
    "           }\n",
    "\n",
    "for channel in Channels2:\n",
    "    print(\"Channel:\",channel,\"has\",Channels2[channel].GetEntries(),\"entries\")\n",
    "\n",
    "OutputMap = {\"ttH\":[1,0,0,0],\"ggH\":[0,1,0,0],\"WWH\":[0,0,1,0], \n",
    "             'data1':[0,0,0,1], 'data2':[0,0,0,1], 'data3':[0,0,0,1], 'data4':[0,0,0,1]}\n",
    "\n",
    "signal_dataset = []\n",
    "signal_dataset2 = []\n",
    "\n",
    "for channel in Channels2:\n",
    "    print(\"Processing Channel \",channel)\n",
    "    Channel = Channels2[channel]\n",
    "    counter = 0\n",
    "    for event in Channel:\n",
    "        #if (not event.trigP):\n",
    "            #continue\n",
    "        if counter > 200000:\n",
    "            break\n",
    "        Photons = []\n",
    "        if Channel.photon_n != 2:\n",
    "            continue\n",
    "        for j in range(Channel.photon_n):\n",
    "            Momentum = ROOT.TLorentzVector()\n",
    "            Momentum.SetPtEtaPhiE(Channel.photon_pt[j]/1000., Channel.photon_eta[j],Channel.photon_phi[j],Channel.photon_E[j]/1000.)\n",
    "            Photons.append(Momentum)\n",
    "        Photons.sort(key = lambda p : -p.E())#sorts by energy most energetic goes first\n",
    "        data = []\n",
    "        data2 = []\n",
    "        data2.append(np.sqrt(2*(Photons[0].E()*Photons[1].E()-Photons[0].Px()*Photons[1].Px()-Photons[0].Py()*Photons[1].Py()-Photons[0].Pz()*Photons[1].Pz())))\n",
    "        for i in range(len(Photons)):\n",
    "            #momentum of the photons go into nn\n",
    "            data.append(Photons[i].E() )\n",
    "            data.append(Photons[i].Px())\n",
    "            data.append(Photons[i].Py())\n",
    "            data.append(Photons[i].Pz())\n",
    "            data2.append(Photons[i].Px())\n",
    "            data2.append(Photons[i].Py())\n",
    "            data2.append(Photons[i].Pz())\n",
    "        for vec in OutputMap[channel]:\n",
    "            data.append(vec)\n",
    "            data2.append(vec)\n",
    "        signal_dataset.append(data)\n",
    "        signal_dataset2.append(data2)\n",
    "        counter += 1\n",
    "        \n",
    "        \n",
    "random.shuffle(signal_dataset)#change name\n",
    "signal_dataset = np.asarray(signal_dataset)\n",
    "\n",
    "random.shuffle(signal_dataset2)\n",
    "signal_dataset2 = np.asarray(signal_dataset2)"
   ]
  },
  {
   "cell_type": "code",
   "execution_count": 4,
   "id": "c00f82cb",
   "metadata": {},
   "outputs": [
    {
     "name": "stdout",
     "output_type": "stream",
     "text": [
      "Channel: ggH has 1054711 entries\n",
      "Processing Channel  ggH\n"
     ]
    }
   ],
   "source": [
    "#gg channel\n",
    "\n",
    "ggH = ROOT.TFile.Open(\"mc_343981.ggH125_gamgam.GamGam.root\")\n",
    "\n",
    "Channels = {'ggH':ggH.Get('mini')}\n",
    "\n",
    "for channel in Channels:\n",
    "    print(\"Channel:\",channel,\"has\",Channels[channel].GetEntries(),\"entries\")\n",
    "\n",
    "OutputMap = {\"ttH\":[1,0,0,0],\"ggH\":[0,1,0,0],\"WWH\":[0,0,1,0], \n",
    "             'data1':[0,0,0,1], 'data2':[0,0,0,1], 'data3':[0,0,0,1], 'data4':[0,0,0,1]}\n",
    "\n",
    "ggdataset = []\n",
    "ggdataset2 = []\n",
    "\n",
    "\n",
    "for channel in Channels:\n",
    "    print(\"Processing Channel \",channel)\n",
    "    Channel = Channels[channel]\n",
    "    counter = 0\n",
    "    for event in Channel:\n",
    "        #if (not event.trigP):\n",
    "            #continue\n",
    "        if counter > 200000:\n",
    "            break\n",
    "        Photons = []\n",
    "        if Channel.photon_n != 2:\n",
    "            continue\n",
    "        for j in range(Channel.photon_n):\n",
    "            Momentum = ROOT.TLorentzVector()\n",
    "            Momentum.SetPtEtaPhiE(Channel.photon_pt[j]/1000., Channel.photon_eta[j],Channel.photon_phi[j],Channel.photon_E[j]/1000.)\n",
    "            Photons.append(Momentum)\n",
    "        Photons.sort(key = lambda p : -p.E())#sorts by energy most energetic goes first\n",
    "        data = []\n",
    "        data2 = []\n",
    "        data2.append(np.sqrt(2*(Photons[0].E()*Photons[1].E()-Photons[0].Px()*Photons[1].Px()-Photons[0].Py()*Photons[1].Py()-Photons[0].Pz()*Photons[1].Pz())))\n",
    "        for i in range(len(Photons)):\n",
    "            #momentum of the photons go into nn\n",
    "            data.append(Photons[i].E() )\n",
    "            data.append(Photons[i].Px())\n",
    "            data.append(Photons[i].Py())\n",
    "            data.append(Photons[i].Pz())\n",
    "            data2.append(Photons[i].Px())\n",
    "            data2.append(Photons[i].Py())\n",
    "            data2.append(Photons[i].Pz())\n",
    "        for vec in OutputMap[channel]:\n",
    "            data.append(vec)\n",
    "            data2.append(vec)\n",
    "        ggdataset.append(data)\n",
    "        ggdataset2.append(data2)\n",
    "        counter += 1\n",
    "        \n",
    "        \n",
    "random.shuffle(ggdataset)\n",
    "ggdataset = np.asarray(ggdataset)\n",
    "\n",
    "random.shuffle(ggdataset2)\n",
    "ggdataset2 = np.asarray(ggdataset2)"
   ]
  },
  {
   "cell_type": "code",
   "execution_count": 5,
   "id": "d0a2be98",
   "metadata": {},
   "outputs": [
    {
     "name": "stdout",
     "output_type": "stream",
     "text": [
      "Channel: ttH has 576491 entries\n",
      "Processing Channel  ttH\n"
     ]
    }
   ],
   "source": [
    "#tt channel\n",
    "\n",
    "ttH = ROOT.TFile.Open(\"mc_341081.ttH125_gamgam.GamGam.root\")\n",
    "\n",
    "Channels = {'ttH':ttH.Get('mini')}\n",
    "\n",
    "for channel in Channels:\n",
    "    print(\"Channel:\",channel,\"has\",Channels[channel].GetEntries(),\"entries\")\n",
    "\n",
    "OutputMap = {\"ttH\":[1,0,0,0],\"ggH\":[0,1,0,0],\"WWH\":[0,0,1,0], \n",
    "             'data1':[0,0,0,1], 'data2':[0,0,0,1], 'data3':[0,0,0,1], 'data4':[0,0,0,1]}\n",
    "\n",
    "ttdataset = []\n",
    "ttdataset2 = []\n",
    "\n",
    "\n",
    "for channel in Channels:\n",
    "    print(\"Processing Channel \",channel)\n",
    "    Channel = Channels[channel]\n",
    "    counter = 0\n",
    "    for event in Channel:\n",
    "        #if (not event.trigP):\n",
    "            #continue\n",
    "        if counter > 200000:\n",
    "            break\n",
    "        Photons = []\n",
    "        if Channel.photon_n != 2:\n",
    "            continue\n",
    "        for j in range(Channel.photon_n):\n",
    "            Momentum = ROOT.TLorentzVector()\n",
    "            Momentum.SetPtEtaPhiE(Channel.photon_pt[j]/1000., Channel.photon_eta[j],Channel.photon_phi[j],Channel.photon_E[j]/1000.)\n",
    "            Photons.append(Momentum)\n",
    "        Photons.sort(key = lambda p : -p.E())#sorts by energy most energetic goes first\n",
    "        data = []\n",
    "        data2 = []\n",
    "        data2.append(np.sqrt(2*(Photons[0].E()*Photons[1].E()-Photons[0].Px()*Photons[1].Px()-Photons[0].Py()*Photons[1].Py()-Photons[0].Pz()*Photons[1].Pz())))\n",
    "        for i in range(len(Photons)):\n",
    "            #momentum of the photons go into nn\n",
    "            data.append(Photons[i].E() )\n",
    "            data.append(Photons[i].Px())\n",
    "            data.append(Photons[i].Py())\n",
    "            data.append(Photons[i].Pz())\n",
    "            data2.append(Photons[i].Px())\n",
    "            data2.append(Photons[i].Py())\n",
    "            data2.append(Photons[i].Pz())\n",
    "        for vec in OutputMap[channel]:\n",
    "            data.append(vec)\n",
    "            data2.append(vec)\n",
    "        ttdataset.append(data)\n",
    "        ttdataset2.append(data2)\n",
    "        counter += 1\n",
    "        \n",
    "        \n",
    "random.shuffle(ttdataset)\n",
    "ttdataset = np.asarray(ttdataset)\n",
    "\n",
    "random.shuffle(ttdataset2)\n",
    "ttdataset2 = np.asarray(ttdataset2)"
   ]
  },
  {
   "cell_type": "code",
   "execution_count": 6,
   "id": "d37b6bb0",
   "metadata": {},
   "outputs": [
    {
     "name": "stdout",
     "output_type": "stream",
     "text": [
      "Channel: WWH has 497468 entries\n",
      "Processing Channel  WWH\n"
     ]
    }
   ],
   "source": [
    "#VBF channel\n",
    "\n",
    "WWH = ROOT.TFile.Open(\"mc_345041.VBFH125_gamgam.GamGam.root\")\n",
    "\n",
    "Channels = {'WWH':WWH.Get('mini')}\n",
    "\n",
    "for channel in Channels:\n",
    "    print(\"Channel:\",channel,\"has\",Channels[channel].GetEntries(),\"entries\")\n",
    "\n",
    "OutputMap = {\"ttH\":[1,0,0,0],\"ggH\":[0,1,0,0],\"WWH\":[0,0,1,0], \n",
    "             'data1':[0,0,0,1], 'data2':[0,0,0,1], 'data3':[0,0,0,1], 'data4':[0,0,0,1]}\n",
    "\n",
    "WWdataset = []\n",
    "WWdataset2 = []\n",
    "\n",
    "\n",
    "for channel in Channels:\n",
    "    print(\"Processing Channel \",channel)\n",
    "    Channel = Channels[channel]\n",
    "    counter = 0\n",
    "    for event in Channel:\n",
    "        #if (not event.trigP):\n",
    "            #continue\n",
    "        if counter > 200000:\n",
    "            break\n",
    "        Photons = []\n",
    "        if Channel.photon_n != 2:\n",
    "            continue\n",
    "        for j in range(Channel.photon_n):\n",
    "            Momentum = ROOT.TLorentzVector()\n",
    "            Momentum.SetPtEtaPhiE(Channel.photon_pt[j]/1000., Channel.photon_eta[j],Channel.photon_phi[j],Channel.photon_E[j]/1000.)\n",
    "            Photons.append(Momentum)\n",
    "        Photons.sort(key = lambda p : -p.E())#sorts by energy most energetic goes first\n",
    "        data = []\n",
    "        data2 = []\n",
    "        data2.append(np.sqrt(2*(Photons[0].E()*Photons[1].E()-Photons[0].Px()*Photons[1].Px()-Photons[0].Py()*Photons[1].Py()-Photons[0].Pz()*Photons[1].Pz())))\n",
    "        for i in range(len(Photons)):\n",
    "            #momentum of the photons go into nn\n",
    "            data.append(Photons[i].E() )\n",
    "            data.append(Photons[i].Px())\n",
    "            data.append(Photons[i].Py())\n",
    "            data.append(Photons[i].Pz())\n",
    "            data2.append(Photons[i].Px())\n",
    "            data2.append(Photons[i].Py())\n",
    "            data2.append(Photons[i].Pz())\n",
    "        for vec in OutputMap[channel]:\n",
    "            data.append(vec)\n",
    "            data2.append(vec)\n",
    "        WWdataset.append(data)\n",
    "        WWdataset2.append(data2)\n",
    "        counter += 1\n",
    "        \n",
    "        \n",
    "random.shuffle(WWdataset)\n",
    "WWdataset = np.asarray(WWdataset)\n",
    "\n",
    "random.shuffle(WWdataset2)\n",
    "WWdataset2 = np.asarray(WWdataset2)"
   ]
  },
  {
   "cell_type": "code",
   "execution_count": 21,
   "id": "62ef75c4",
   "metadata": {},
   "outputs": [],
   "source": [
    "def create_proc_model():\n",
    "    ilayer = layers.Dense(units = 7, input_dim = len(dataset2[0,:-4]), activation=\"relu\")\n",
    "    layer1 = layers.Dense(units = 8, activation=\"relu\")\n",
    "    layer2 = layers.Dense(units = 9, activation=\"relu\")\n",
    "    olayer = layers.Dense(units = 4, activation = \"sigmoid\")\n",
    "\n",
    "    Model = keras.Sequential([ilayer,layer1,layer2,olayer])\n",
    "    \n",
    "    Model.compile(\n",
    "    optimizer = keras.optimizers.SGD(0.001),\n",
    "    loss=\"binary_crossentropy\"\n",
    "    )\n",
    "    \n",
    "    return Model"
   ]
  },
  {
   "cell_type": "code",
   "execution_count": 22,
   "id": "a3b62d5d",
   "metadata": {},
   "outputs": [],
   "source": [
    "def create_nonproc_model():\n",
    "    ilayer = layers.Dense(units = 7, input_dim = len(dataset[0,:-4]), activation=\"relu\")\n",
    "    layer1 = layers.Dense(units = 8, activation=\"relu\")\n",
    "    layer2 = layers.Dense(units = 9, activation=\"relu\")\n",
    "    olayer = layers.Dense(units = 4, activation = \"sigmoid\")\n",
    "\n",
    "    Model = keras.Sequential([ilayer,layer1,layer2,olayer])\n",
    "    \n",
    "    Model.compile(\n",
    "    optimizer = keras.optimizers.SGD(0.001),\n",
    "    loss=\"binary_crossentropy\"\n",
    "    )\n",
    "    \n",
    "    return Model"
   ]
  },
  {
   "cell_type": "code",
   "execution_count": 23,
   "id": "08f2b3dc",
   "metadata": {},
   "outputs": [
    {
     "data": {
      "text/plain": [
       "<tensorflow.python.training.tracking.util.CheckpointLoadStatus at 0x7ff3f5c70940>"
      ]
     },
     "execution_count": 23,
     "metadata": {},
     "output_type": "execute_result"
    },
    {
     "name": "stderr",
     "output_type": "stream",
     "text": [
      "2022-09-05 19:02:44.478625: I tensorflow/core/platform/cpu_feature_guard.cc:151] This TensorFlow binary is optimized with oneAPI Deep Neural Network Library (oneDNN) to use the following CPU instructions in performance-critical operations:  AVX2 FMA\n",
      "To enable them in other operations, rebuild TensorFlow with the appropriate compiler flags.\n"
     ]
    }
   ],
   "source": [
    "modelfolder = '/Users/dan-ioanbultoc/Desktop/EE/non-processed_weights/'\n",
    "nonproc_model = create_nonproc_model()\n",
    "nonproc_model.load_weights(modelfolder)\n",
    "\n",
    "modelfolder2 = '/Users/dan-ioanbultoc/Desktop/EE/processed_weights/'\n",
    "proc_model = create_proc_model()\n",
    "proc_model.load_weights(modelfolder2)"
   ]
  },
  {
   "cell_type": "code",
   "execution_count": 24,
   "id": "5fe6e6bf",
   "metadata": {},
   "outputs": [],
   "source": [
    "#background\n",
    "x = back_dataset[:,:-4]\n",
    "y = back_dataset2[:,:-4]\n",
    "\n",
    "back_nonproc = nonproc_model.predict(x)\n",
    "back_proc = proc_model.predict(y)\n",
    "\n",
    "back_nonproc_answer = back_dataset[:,-4:]\n",
    "back_proc_answer = back_dataset2[:,-4:]"
   ]
  },
  {
   "cell_type": "code",
   "execution_count": 33,
   "id": "af99f05d",
   "metadata": {},
   "outputs": [],
   "source": [
    "#background & signal\n",
    "x = signal_dataset[:,:-4]\n",
    "y = signal_dataset2[:,:-4]\n",
    "\n",
    "signal_nonproc = nonproc_model.predict(x)\n",
    "signal_proc = proc_model.predict(y)\n",
    "\n",
    "signal_proc_answer = signal_dataset[:,-4:]\n",
    "signal_nonproc_answer = signal_dataset2[:,-4:]"
   ]
  },
  {
   "cell_type": "code",
   "execution_count": 30,
   "id": "106cbfeb",
   "metadata": {},
   "outputs": [],
   "source": [
    "#gg channnel\n",
    "gga = ggdataset[:,:-4]\n",
    "ggb = ggdataset2[:,:-4]\n",
    "\n",
    "gg_nonproc = nonproc_model.predict(gga)\n",
    "gg_proc = proc_model.predict(ggb)\n",
    "\n",
    "gg_nonproc_answer = ggdataset[:,-4:]\n",
    "gg_proc_answer = ggdataset[:,-4:]"
   ]
  },
  {
   "cell_type": "code",
   "execution_count": 31,
   "id": "a7cce57c",
   "metadata": {},
   "outputs": [],
   "source": [
    "#tt channel\n",
    "tta = ttdataset[:,:-4]\n",
    "ttb = ttdataset2[:,:-4]\n",
    "\n",
    "tt_nonproc = nonproc_model.predict(tta)\n",
    "tt_proc = proc_model.predict(ttb)\n",
    "\n",
    "tt_nonproc_answer = ttdataset[:,-4:]\n",
    "tt_proc_answer = ttdataset[:,-4:]"
   ]
  },
  {
   "cell_type": "code",
   "execution_count": 32,
   "id": "b1b0fbf8",
   "metadata": {},
   "outputs": [],
   "source": [
    "WWa = WWdataset[:,:-4]\n",
    "WWb = WWdataset2[:,:-4]\n",
    "\n",
    "WW_nonproc = nonproc_model.predict(WWa)\n",
    "WW_proc = proc_model.predict(WWb)\n",
    "\n",
    "WW_nonproc_answer = WWdataset[:,-4:]\n",
    "WW_proc_answer = WWdataset[:,-4:]"
   ]
  },
  {
   "cell_type": "code",
   "execution_count": 25,
   "id": "ea3ad28a",
   "metadata": {},
   "outputs": [],
   "source": [
    "def prob(arr):\n",
    "    return (arr[0] + arr[1] + arr[2])/sum(arr)"
   ]
  },
  {
   "cell_type": "code",
   "execution_count": 34,
   "id": "280a4233",
   "metadata": {},
   "outputs": [
    {
     "name": "stdout",
     "output_type": "stream",
     "text": [
      "1.0069657611631821\n"
     ]
    }
   ],
   "source": []
  },
  {
   "cell_type": "code",
   "execution_count": 39,
   "id": "e6872d53",
   "metadata": {},
   "outputs": [
    {
     "name": "stdout",
     "output_type": "stream",
     "text": [
      "1.0004118774328965\n",
      "[2.8923154e-04 7.7381783e-06 1.1895332e-04 9.9999613e-01]\n",
      "0.0004157517348069667\n",
      "[0. 0. 0. 1.]\n"
     ]
    }
   ],
   "source": [
    "print(prob(back_nonproc[51]) + back_nonproc[51][3])\n",
    "print(back_nonproc[51])\n",
    "print(prob(back_nonproc[51]))\n",
    "print(back_nonproc_answer[51])"
   ]
  },
  {
   "cell_type": "code",
   "execution_count": 37,
   "id": "223cee08",
   "metadata": {},
   "outputs": [
    {
     "data": {
      "image/png": "[encoded data removed]",
      "text/plain": [
       "<Figure size 432x288 with 1 Axes>"
      ]
     },
     "metadata": {
      "needs_background": "light"
     },
     "output_type": "display_data"
    },
    {
     "data": {
      "image/png": "[encoded data removed]",
      "text/plain": [
       "<Figure size 432x288 with 1 Axes>"
      ]
     },
     "metadata": {
      "needs_background": "light"
     },
     "output_type": "display_data"
    }
   ],
   "source": [
    "#background events\n",
    "Higgs_proc_values = []\n",
    "\n",
    "for i in range(len(gg_proc)):\n",
    "    Higgs_proc_values.append(prob(gg_proc[i]))\n",
    "    \n",
    "for i in range(len(tt_proc)):\n",
    "    Higgs_proc_values.append(prob(tt_proc[i]))\n",
    "    \n",
    "for i in range(len(WW_proc)):\n",
    "    Higgs_proc_values.append(prob(WW_proc[i]))\n",
    "\n",
    "\n",
    "plt.clf()\n",
    "plt.title('Normalized counts vs likelyhood for processed Higgs events')\n",
    "plt.xlabel('Likelyhood')\n",
    "plt.ylabel('Normalized count')\n",
    "plt.hist(Higgs_proc_values, density = True)\n",
    "plt.savefig('Higgs_proc_likelyhood')\n",
    "plt.show()\n",
    "\n",
    "Higgs_nonproc_values = []\n",
    "\n",
    "for i in range(len(tt_nonproc)):\n",
    "    Higgs_nonproc_values.append(prob(tt_nonproc[i]))\n",
    "    \n",
    "for i in range(len(WW_nonproc)):\n",
    "    Higgs_nonproc_values.append(prob(WW_nonproc[i]))\n",
    "    \n",
    "for i in range(len(gg_nonproc)):\n",
    "    Higgs_nonproc_values.append(prob(gg_nonproc[i]))\n",
    "\n",
    "plt.clf()\n",
    "plt.title('Normalized counts vs likelyhood for un-processed Higgs events')\n",
    "plt.xlabel('Likelyhood')\n",
    "plt.ylabel('Normalized count')\n",
    "plt.hist(Higgs_nonproc_values, density = True)\n",
    "plt.savefig('Higgs_non_proc_likelyhood')\n",
    "plt.show()"
   ]
  },
  {
   "cell_type": "code",
   "execution_count": 38,
   "id": "b6dbb899",
   "metadata": {},
   "outputs": [
    {
     "data": {
      "image/png": "[encoded data removed]",
      "text/plain": [
       "<Figure size 432x288 with 1 Axes>"
      ]
     },
     "metadata": {
      "needs_background": "light"
     },
     "output_type": "display_data"
    },
    {
     "data": {
      "image/png": "[encoded data removed]",
      "text/plain": [
       "<Figure size 432x288 with 1 Axes>"
      ]
     },
     "metadata": {
      "needs_background": "light"
     },
     "output_type": "display_data"
    }
   ],
   "source": [
    "#background events\n",
    "back_proc_values = []\n",
    "\n",
    "for i in range(len(back_proc)):\n",
    "    back_proc_values.append(prob(back_proc[i]))\n",
    "\n",
    "plt.clf()\n",
    "plt.title('Normalized counts vs likelyhood for processed Monte-Carlo events')\n",
    "plt.xlabel('Likelyhood')\n",
    "plt.ylabel('Normalized count')\n",
    "plt.hist(back_proc_values, density = True)\n",
    "plt.savefig('proc_likelyhood')\n",
    "plt.show()\n",
    "\n",
    "back_nonproc_values = []\n",
    "\n",
    "for i in range(len(back_nonproc)):\n",
    "    back_nonproc_values.append(prob(back_nonproc[i]))\n",
    "\n",
    "plt.clf()\n",
    "plt.title('Normalized counts vs likelyhood for un-processed Monte-Carlo events')\n",
    "plt.xlabel('Likelyhood')\n",
    "plt.ylabel('Normalized count')\n",
    "plt.hist(back_nonproc_values, density = True)\n",
    "plt.savefig('non_proc_likelyhood')\n",
    "plt.show()"
   ]
  },
  {
   "cell_type": "code",
   "execution_count": 173,
   "id": "cf8fcb1b",
   "metadata": {},
   "outputs": [],
   "source": [
    "ggnonproc_values=[]\n",
    "for i in range(len(gg_nonproc)):\n",
    "    ggnonproc_values.append(prob(gg_nonproc[i]))\n",
    "    \n",
    "    \n",
    "ggproc_values=[]\n",
    "for i in range(len(gg_proc)):\n",
    "    ggproc_values.append(prob(gg_proc[i]))"
   ]
  },
  {
   "cell_type": "code",
   "execution_count": 174,
   "id": "05b69e09",
   "metadata": {},
   "outputs": [],
   "source": [
    "ttnonproc_values=[]\n",
    "for i in range(len(tt_nonproc)):\n",
    "    ttnonproc_values.append(prob(tt_nonproc[i]))\n",
    "    \n",
    "    \n",
    "ttproc_values=[]\n",
    "for i in range(len(tt_proc)):\n",
    "    ttproc_values.append(prob(tt_proc[i]))"
   ]
  },
  {
   "cell_type": "code",
   "execution_count": 175,
   "id": "15afbd7c",
   "metadata": {},
   "outputs": [],
   "source": [
    "WWnonproc_values=[]\n",
    "for i in range(len(WW_nonproc)):\n",
    "    WWnonproc_values.append(prob(WW_nonproc[i]))\n",
    "    \n",
    "    \n",
    "WWproc_values=[]\n",
    "for i in range(len(WW_proc)):\n",
    "    WWproc_values.append(prob(WW_proc[i]))"
   ]
  },
  {
   "cell_type": "code",
   "execution_count": 188,
   "id": "3b27237d",
   "metadata": {},
   "outputs": [],
   "source": [
    "def posrate(values, low, high):\n",
    "    higgs = 0\n",
    "    background = 0\n",
    "\n",
    "    for i in range(len(values)):\n",
    "        if values[i] < low:\n",
    "            background += 1\n",
    "\n",
    "        elif values[i] > high:\n",
    "            higgs += 1\n",
    "\n",
    "    higgs /= len(values)\n",
    "    background /= len(values)\n",
    "\n",
    "    print(higgs)\n",
    "    print(background)"
   ]
  },
  {
   "cell_type": "code",
   "execution_count": 189,
   "id": "6d83a301",
   "metadata": {},
   "outputs": [
    {
     "name": "stdout",
     "output_type": "stream",
     "text": [
      "0.0009599952000239999\n",
      "0.7950060249698752\n",
      "\n",
      "0.011369943150284249\n",
      "0.8688056559717201\n"
     ]
    }
   ],
   "source": [
    "#background\n",
    "posrate(back_nonproc_values, 0.25, 0.95)\n",
    "print('')\n",
    "posrate(back_proc_values, 0.25, 0.95)"
   ]
  },
  {
   "cell_type": "code",
   "execution_count": 190,
   "id": "79954c60",
   "metadata": {},
   "outputs": [
    {
     "name": "stdout",
     "output_type": "stream",
     "text": [
      "0.3378533107334463\n",
      "0.001039994800026\n",
      "\n",
      "0.69359653201734\n",
      "0.0013249933750331248\n"
     ]
    }
   ],
   "source": [
    "posrate(ggnonproc_values, 0.05, 0.75)\n",
    "print('')\n",
    "posrate(ggproc_values, 0.05, 0.75)"
   ]
  },
  {
   "cell_type": "code",
   "execution_count": 191,
   "id": "f8348e59",
   "metadata": {
    "scrolled": true
   },
   "outputs": [
    {
     "name": "stdout",
     "output_type": "stream",
     "text": [
      "0.7257113714431428\n",
      "0.005719971400142999\n",
      "\n",
      "0.8615156924215379\n",
      "0.008814955925220374\n"
     ]
    }
   ],
   "source": [
    "posrate(ttnonproc_values, 0.05, 0.75)\n",
    "print('')\n",
    "posrate(ttproc_values, 0.05, 0.75)"
   ]
  },
  {
   "cell_type": "code",
   "execution_count": 192,
   "id": "ac1c618c",
   "metadata": {},
   "outputs": [
    {
     "name": "stdout",
     "output_type": "stream",
     "text": [
      "0.6450267748661257\n",
      "0.004074979625101874\n",
      "\n",
      "0.842840785796071\n",
      "0.004699976500117499\n"
     ]
    }
   ],
   "source": [
    "posrate(WWnonproc_values, 0.05, 0.75)\n",
    "print('')\n",
    "posrate(WWproc_values, 0.05, 0.75)"
   ]
  },
  {
   "cell_type": "code",
   "execution_count": 62,
   "id": "c6dcea34",
   "metadata": {},
   "outputs": [],
   "source": [
    "def rate(certainty, prediction):#explain\n",
    "    rates = []\n",
    "    for i in range(len(certainty)):\n",
    "        var = 0\n",
    "        for j in range(len(prediction)):\n",
    "            if prob(prediction[j]) > certainty[i]:\n",
    "                var += 1\n",
    "            \n",
    "        var /= len(prediction)\n",
    "        rates.append(var)\n",
    "    return rates"
   ]
  },
  {
   "cell_type": "code",
   "execution_count": 80,
   "id": "3bd66433",
   "metadata": {},
   "outputs": [],
   "source": [
    "certainty = [0.05*i for i in range(1,21)]\n",
    "\n",
    "def compute_eff(certainty, prediction, answer, title):\n",
    "    \n",
    "    eff = []\n",
    "    \n",
    "    for i in range(len(certainty)):\n",
    "        print(certainty[i])\n",
    "        efficiency = 0\n",
    "        for j in range(len(prediction)):\n",
    "            if prob(prediction[j]) > certainty[i] and answer[j][-1] == 0:\n",
    "                efficiency += 1\n",
    "\n",
    "            if prob(prediction[j]) < certainty[i] and answer[j][-1] == 1:\n",
    "                efficiency += 1\n",
    "\n",
    "        efficiency /= len(prediction)\n",
    "        eff.append(efficiency)\n",
    "        \n",
    "    plt.clf()\n",
    "    plt.plot(certainty, eff)\n",
    "    plt.title(title)\n",
    "    plt.xlabel('certainty')\n",
    "    plt.ylabel('efficiency')\n",
    "    plt.show()\n",
    "    \n",
    "    return eff"
   ]
  },
  {
   "cell_type": "code",
   "execution_count": 193,
   "id": "f6712b47",
   "metadata": {},
   "outputs": [
    {
     "name": "stdout",
     "output_type": "stream",
     "text": [
      "0.05\n",
      "0.1\n",
      "0.15000000000000002\n",
      "0.2\n",
      "0.25\n",
      "0.30000000000000004\n",
      "0.35000000000000003\n",
      "0.4\n",
      "0.45\n",
      "0.5\n",
      "0.55\n",
      "0.6000000000000001\n",
      "0.65\n",
      "0.7000000000000001\n",
      "0.75\n",
      "0.8\n",
      "0.8500000000000001\n",
      "0.9\n",
      "0.9500000000000001\n",
      "1.0\n"
     ]
    },
    {
     "data": {
      "image/png": "[encoded data removed]",
      "text/plain": [
       "<Figure size 432x288 with 1 Axes>"
      ]
     },
     "metadata": {
      "needs_background": "light"
     },
     "output_type": "display_data"
    },
    {
     "name": "stdout",
     "output_type": "stream",
     "text": [
      "0.05\n",
      "0.1\n",
      "0.15000000000000002\n",
      "0.2\n",
      "0.25\n",
      "0.30000000000000004\n",
      "0.35000000000000003\n",
      "0.4\n",
      "0.45\n",
      "0.5\n",
      "0.55\n",
      "0.6000000000000001\n",
      "0.65\n",
      "0.7000000000000001\n",
      "0.75\n",
      "0.8\n",
      "0.8500000000000001\n",
      "0.9\n",
      "0.9500000000000001\n",
      "1.0\n"
     ]
    },
    {
     "data": {
      "image/png": "[encoded data removed]",
      "text/plain": [
       "<Figure size 432x288 with 1 Axes>"
      ]
     },
     "metadata": {
      "needs_background": "light"
     },
     "output_type": "display_data"
    }
   ],
   "source": [
    "nonproc_eff = compute_eff(certainty, new_nonproc, a_answer, 'non_proc')\n",
    "proc_eff = compute_eff(certainty, new_nonproc, a_answer, 'proc')"
   ]
  },
  {
   "cell_type": "code",
   "execution_count": 196,
   "id": "9c31578d",
   "metadata": {},
   "outputs": [
    {
     "data": {
      "image/png": "[encoded data removed]",
      "text/plain": [
       "<Figure size 432x288 with 1 Axes>"
      ]
     },
     "metadata": {
      "needs_background": "light"
     },
     "output_type": "display_data"
    },
    {
     "data": {
      "image/png": "[encoded data removed]",
      "text/plain": [
       "<Figure size 432x288 with 1 Axes>"
      ]
     },
     "metadata": {
      "needs_background": "light"
     },
     "output_type": "display_data"
    }
   ],
   "source": [
    "nonproc_rate = rate(certainty, nonproc)\n",
    "proc_rate = rate(certainty, proc)\n",
    "\n",
    "plt.clf()\n",
    "plt.plot(certainty, proc_rate)\n",
    "plt.title('proc')\n",
    "plt.show()\n",
    "\n",
    "plt.clf()\n",
    "plt.title('nonproc')\n",
    "plt.plot(certainty, nonproc_rate)\n",
    "plt.show()"
   ]
  },
  {
   "cell_type": "code",
   "execution_count": 86,
   "id": "51f8d5e6",
   "metadata": {},
   "outputs": [
    {
     "data": {
      "image/png": "[encoded data removed]",
      "text/plain": [
       "<Figure size 432x288 with 1 Axes>"
      ]
     },
     "metadata": {
      "needs_background": "light"
     },
     "output_type": "display_data"
    },
    {
     "data": {
      "image/png": "[encoded data removed]",
      "text/plain": [
       "<Figure size 432x288 with 1 Axes>"
      ]
     },
     "metadata": {
      "needs_background": "light"
     },
     "output_type": "display_data"
    }
   ],
   "source": [
    "non_proc_flux = [nonproc_rate[i]*nonproc_eff[i] for i in range(len(certainty))]\n",
    "proc_flux = [proc_rate[i]* proc_eff[i] for i in range(len(certainty))]\n",
    "\n",
    "plt.clf()\n",
    "plt.plot(certainty, non_proc_flux)\n",
    "plt.title('non proc flux')\n",
    "plt.show()\n",
    "\n",
    "plt.clf()\n",
    "plt.plot(certainty, proc_flux)\n",
    "plt.title('proc flux')\n",
    "plt.show()"
   ]
  },
  {
   "cell_type": "code",
   "execution_count": 87,
   "id": "9d9a019b",
   "metadata": {},
   "outputs": [
    {
     "name": "stdout",
     "output_type": "stream",
     "text": [
      "[0.30005665742592436, 0.2541386230657492, 0.22383969226414802, 0.20060487661705206, 0.18089346637331394, 0.1634380224156899, 0.14727652018111628, 0.13221307932423476, 0.11870134870021214, 0.1059982804312124, 0.09370602220410199, 0.08133652864518014, 0.06950489323266337, 0.057571163191095474, 0.04585678599766027, 0.03363446365452259, 0.022085542798186548, 0.010874583928888846, 0.0004947766522211084, 0.0]\n"
     ]
    }
   ],
   "source": [
    "print(non_proc_flux)"
   ]
  },
  {
   "cell_type": "code",
   "execution_count": 89,
   "id": "113e7811",
   "metadata": {},
   "outputs": [
    {
     "name": "stdout",
     "output_type": "stream",
     "text": [
      "[0.21317267410126303, 0.16939749460415235, 0.1441180448159489, 0.12805799714182714, 0.11577023010730468, 0.10568603986195922, 0.09705264423363134, 0.08891280503639348, 0.08184332193140127, 0.07493990859904051, 0.06793150341660088, 0.061257101623285674, 0.054228959750713436, 0.04744721331418068, 0.040216182487169724, 0.03277407225845806, 0.024702762571756718, 0.015848278441819373, 0.005860010974743753, 0.0]\n"
     ]
    }
   ],
   "source": [
    "print(proc_flux)"
   ]
  },
  {
   "cell_type": "code",
   "execution_count": null,
   "id": "5fda04fc",
   "metadata": {},
   "outputs": [],
   "source": []
  }
 ],
 "metadata": {
  "kernelspec": {
   "display_name": "Python 3 (ipykernel)",
   "language": "python",
   "name": "python3"
  },
  "language_info": {
   "codemirror_mode": {
    "name": "ipython",
    "version": 3
   },
   "file_extension": ".py",
   "mimetype": "text/x-python",
   "name": "python",
   "nbconvert_exporter": "python",
   "pygments_lexer": "ipython3",
   "version": "3.9.7"
  }
 },
 "nbformat": 4,
 "nbformat_minor": 5
}
